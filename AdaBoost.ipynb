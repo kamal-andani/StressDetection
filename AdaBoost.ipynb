{
 "cells": [
  {
   "cell_type": "code",
   "execution_count": 1,
   "metadata": {},
   "outputs": [],
   "source": [
    "import pandas as pd\n",
    "import numpy as np\n",
    "\n",
    "import warnings\n",
    "warnings.filterwarnings('ignore')\n",
    "\n",
    "\n",
    "from sklearn.metrics import classification_report\n",
    "from sklearn.model_selection import train_test_split\n",
    "from sklearn.model_selection import GridSearchCV\n",
    "from sklearn.ensemble import AdaBoostClassifier"
   ]
  },
  {
   "cell_type": "code",
   "execution_count": 2,
   "metadata": {},
   "outputs": [],
   "source": [
    "df = pd.read_csv('data/combined_subjects7.csv', index_col=0)\n",
    "subject_id_list = df['subject'].unique()\n"
   ]
  },
  {
   "cell_type": "code",
   "execution_count": 3,
   "metadata": {},
   "outputs": [],
   "source": [
    "feats_all =   ['BVP_mean', 'BVP_std', 'BVP_min', 'BVP_max',\n",
    "           'EDA_phasic_mean', 'EDA_phasic_std', 'EDA_phasic_min', 'EDA_phasic_max', 'EDA_smna_mean',\n",
    "           'EDA_smna_std', 'EDA_smna_min', 'EDA_smna_max', 'EDA_tonic_mean',\n",
    "           'EDA_tonic_std', 'EDA_tonic_min', 'EDA_tonic_max', 'Resp_mean',\n",
    "           'Resp_std', 'Resp_min', 'Resp_max', 'TEMP_mean', 'TEMP_std', 'TEMP_min',\n",
    "           'TEMP_max', 'TEMP_slope', 'BVP_peak_freq','BVP_peaks_cnt','Resp_peak_cnt','subject', 'label']\n",
    "\n",
    "feats_without_EDA =   ['BVP_mean', 'BVP_std', 'BVP_min', 'BVP_max','Resp_mean','Resp_std', 'Resp_min', 'Resp_max', 'TEMP_mean', 'TEMP_std', 'TEMP_min',\n",
    "           'TEMP_max', 'TEMP_slope', 'BVP_peak_freq','BVP_peaks_cnt','Resp_peak_cnt','subject', 'label']\n",
    "\n",
    "feats_EDA = ['EDA_phasic_mean', 'EDA_phasic_std', 'EDA_phasic_min', 'EDA_phasic_max', 'EDA_smna_mean',\n",
    "           'EDA_smna_std', 'EDA_smna_min', 'EDA_smna_max', 'EDA_tonic_mean',\n",
    "           'EDA_tonic_std', 'EDA_tonic_min', 'EDA_tonic_max','subject', 'label']\n",
    "df=df[feats_all]"
   ]
  },
  {
   "cell_type": "code",
   "execution_count": 4,
   "metadata": {},
   "outputs": [],
   "source": [
    "subjects = df['subject'].unique()"
   ]
  },
  {
   "cell_type": "code",
   "execution_count": 5,
   "metadata": {},
   "outputs": [],
   "source": [
    "x=df.drop(columns=['label'])\n",
    "y=df['label']"
   ]
  },
  {
   "cell_type": "code",
   "execution_count": 6,
   "metadata": {},
   "outputs": [],
   "source": [
    "def get_binary_label(label):\n",
    "    if label == 0 or label == 1:\n",
    "        return 0\n",
    "    else:\n",
    "        return 1"
   ]
  },
  {
   "cell_type": "code",
   "execution_count": 7,
   "metadata": {},
   "outputs": [],
   "source": [
    "y = y.apply(get_binary_label)"
   ]
  },
  {
   "cell_type": "code",
   "execution_count": 8,
   "metadata": {},
   "outputs": [],
   "source": [
    "X_train, X_test, y_train, y_test = train_test_split(x,y,test_size=0.3,random_state = 42)"
   ]
  },
  {
   "cell_type": "code",
   "execution_count": 9,
   "metadata": {},
   "outputs": [],
   "source": [
    "params={'n_estimators':[50,100,130,145,150,160,200,500]}\n",
    "\n",
    "model = AdaBoostClassifier()\n",
    "clf = GridSearchCV(model,param_grid=params,cv=3,verbose=10,n_jobs=-1)"
   ]
  },
  {
   "cell_type": "code",
   "execution_count": 10,
   "metadata": {},
   "outputs": [
    {
     "name": "stdout",
     "output_type": "stream",
     "text": [
      "Fitting 3 folds for each of 8 candidates, totalling 24 fits\n"
     ]
    },
    {
     "name": "stderr",
     "output_type": "stream",
     "text": [
      "[Parallel(n_jobs=-1)]: Using backend LokyBackend with 12 concurrent workers.\n",
      "[Parallel(n_jobs=-1)]: Done   1 tasks      | elapsed:    3.0s\n",
      "[Parallel(n_jobs=-1)]: Done   4 out of  24 | elapsed:    3.5s remaining:   18.0s\n",
      "[Parallel(n_jobs=-1)]: Done   7 out of  24 | elapsed:    4.0s remaining:    9.8s\n",
      "[Parallel(n_jobs=-1)]: Done  10 out of  24 | elapsed:    4.1s remaining:    5.8s\n",
      "[Parallel(n_jobs=-1)]: Done  13 out of  24 | elapsed:    4.6s remaining:    3.8s\n",
      "[Parallel(n_jobs=-1)]: Done  16 out of  24 | elapsed:    4.8s remaining:    2.4s\n",
      "[Parallel(n_jobs=-1)]: Done  19 out of  24 | elapsed:    5.5s remaining:    1.4s\n",
      "[Parallel(n_jobs=-1)]: Done  22 out of  24 | elapsed:    6.9s remaining:    0.5s\n",
      "[Parallel(n_jobs=-1)]: Done  24 out of  24 | elapsed:    7.1s finished\n"
     ]
    }
   ],
   "source": [
    "adb=clf.fit(X_train,y_train)"
   ]
  },
  {
   "cell_type": "code",
   "execution_count": 11,
   "metadata": {},
   "outputs": [
    {
     "data": {
      "text/plain": [
       "150"
      ]
     },
     "execution_count": 11,
     "metadata": {},
     "output_type": "execute_result"
    }
   ],
   "source": [
    "best_ntrees=adb.best_params_['n_estimators']\n",
    "best_ntrees"
   ]
  },
  {
   "cell_type": "code",
   "execution_count": 12,
   "metadata": {
    "scrolled": false
   },
   "outputs": [
    {
     "name": "stdout",
     "output_type": "stream",
     "text": [
      "Subject  2\n",
      "              precision    recall  f1-score   support\n",
      "\n",
      "           0       1.00      0.89      0.94       183\n",
      "           1       0.70      1.00      0.82        46\n",
      "\n",
      "    accuracy                           0.91       229\n",
      "   macro avg       0.85      0.95      0.88       229\n",
      "weighted avg       0.94      0.91      0.92       229\n",
      "\n",
      "Subject  3\n",
      "              precision    recall  f1-score   support\n",
      "\n",
      "           0       0.72      0.94      0.82       126\n",
      "           1       0.88      0.58      0.70       106\n",
      "\n",
      "    accuracy                           0.77       232\n",
      "   macro avg       0.80      0.76      0.76       232\n",
      "weighted avg       0.80      0.77      0.76       232\n",
      "\n",
      "Subject  4\n",
      "              precision    recall  f1-score   support\n",
      "\n",
      "           0       1.00      1.00      1.00       165\n",
      "           1       1.00      1.00      1.00        68\n",
      "\n",
      "    accuracy                           1.00       233\n",
      "   macro avg       1.00      1.00      1.00       233\n",
      "weighted avg       1.00      1.00      1.00       233\n",
      "\n",
      "Subject  5\n",
      "              precision    recall  f1-score   support\n",
      "\n",
      "           0       0.99      0.99      0.99       170\n",
      "           1       0.99      0.99      0.99        70\n",
      "\n",
      "    accuracy                           0.99       240\n",
      "   macro avg       0.99      0.99      0.99       240\n",
      "weighted avg       0.99      0.99      0.99       240\n",
      "\n",
      "Subject  6\n",
      "              precision    recall  f1-score   support\n",
      "\n",
      "           0       0.99      0.98      0.99       169\n",
      "           1       0.96      0.97      0.96        69\n",
      "\n",
      "    accuracy                           0.98       238\n",
      "   macro avg       0.97      0.98      0.97       238\n",
      "weighted avg       0.98      0.98      0.98       238\n",
      "\n",
      "Subject  7\n",
      "              precision    recall  f1-score   support\n",
      "\n",
      "           0       0.95      0.97      0.96       165\n",
      "           1       0.93      0.89      0.91        72\n",
      "\n",
      "    accuracy                           0.95       237\n",
      "   macro avg       0.94      0.93      0.93       237\n",
      "weighted avg       0.94      0.95      0.94       237\n",
      "\n",
      "Subject  8\n",
      "              precision    recall  f1-score   support\n",
      "\n",
      "           0       0.99      0.99      0.99       166\n",
      "           1       0.99      0.99      0.99        72\n",
      "\n",
      "    accuracy                           0.99       238\n",
      "   macro avg       0.99      0.99      0.99       238\n",
      "weighted avg       0.99      0.99      0.99       238\n",
      "\n",
      "Subject  9\n",
      "              precision    recall  f1-score   support\n",
      "\n",
      "           0       1.00      1.00      1.00       168\n",
      "           1       1.00      1.00      1.00        70\n",
      "\n",
      "    accuracy                           1.00       238\n",
      "   macro avg       1.00      1.00      1.00       238\n",
      "weighted avg       1.00      1.00      1.00       238\n",
      "\n",
      "Subject  10\n",
      "              precision    recall  f1-score   support\n",
      "\n",
      "           0       1.00      0.98      0.99       171\n",
      "           1       0.96      1.00      0.98        75\n",
      "\n",
      "    accuracy                           0.99       246\n",
      "   macro avg       0.98      0.99      0.99       246\n",
      "weighted avg       0.99      0.99      0.99       246\n",
      "\n",
      "Subject  11\n",
      "              precision    recall  f1-score   support\n",
      "\n",
      "           0       0.97      0.84      0.90       193\n",
      "           1       0.58      0.89      0.70        47\n",
      "\n",
      "    accuracy                           0.85       240\n",
      "   macro avg       0.77      0.87      0.80       240\n",
      "weighted avg       0.89      0.85      0.86       240\n",
      "\n",
      "Subject  13\n",
      "              precision    recall  f1-score   support\n",
      "\n",
      "           0       1.00      0.92      0.96       184\n",
      "           1       0.79      1.00      0.88        57\n",
      "\n",
      "    accuracy                           0.94       241\n",
      "   macro avg       0.90      0.96      0.92       241\n",
      "weighted avg       0.95      0.94      0.94       241\n",
      "\n",
      "Subject  14\n",
      "              precision    recall  f1-score   support\n",
      "\n",
      "           0       0.02      0.75      0.03         4\n",
      "           1       0.99      0.30      0.46       237\n",
      "\n",
      "    accuracy                           0.31       241\n",
      "   macro avg       0.50      0.53      0.25       241\n",
      "weighted avg       0.97      0.31      0.46       241\n",
      "\n",
      "Subject  15\n",
      "              precision    recall  f1-score   support\n",
      "\n",
      "           0       0.99      0.92      0.95       181\n",
      "           1       0.80      0.98      0.88        60\n",
      "\n",
      "    accuracy                           0.93       241\n",
      "   macro avg       0.90      0.95      0.92       241\n",
      "weighted avg       0.95      0.93      0.94       241\n",
      "\n",
      "Subject  16\n",
      "              precision    recall  f1-score   support\n",
      "\n",
      "           0       0.98      0.94      0.96       174\n",
      "           1       0.86      0.95      0.91        66\n",
      "\n",
      "    accuracy                           0.95       240\n",
      "   macro avg       0.92      0.95      0.93       240\n",
      "weighted avg       0.95      0.95      0.95       240\n",
      "\n",
      "Subject  17\n",
      "              precision    recall  f1-score   support\n",
      "\n",
      "           0       0.58      0.66      0.61       148\n",
      "           1       0.35      0.28      0.31        98\n",
      "\n",
      "    accuracy                           0.50       246\n",
      "   macro avg       0.46      0.47      0.46       246\n",
      "weighted avg       0.49      0.50      0.49       246\n",
      "\n"
     ]
    }
   ],
   "source": [
    "preds={}\n",
    "clr={}\n",
    "for i in subjects:\n",
    "    x_train=x[x['subject']!=i]\n",
    "    x_test=x[x['subject']==i]\n",
    "    y_train=y[x['subject']!=i]\n",
    "    y_test=y[x['subject']==i]\n",
    "    \n",
    "    clf = AdaBoostClassifier(n_estimators=best_ntrees)\n",
    "    \n",
    "    best=clf.fit(x_train, y_train)\n",
    "    \n",
    "    y_predicted = best.predict(x_test)\n",
    "    \n",
    "    print(\"Subject \",i)\n",
    "     \n",
    "    preds[i]=y_predicted\n",
    "    print(classification_report(y_predicted,y_test))\n",
    "    a=classification_report(y_predicted,y_test,target_names=['Non-Stress','Stress'],output_dict=True)\n",
    "    clr[i]=a\n",
    "    "
   ]
  },
  {
   "cell_type": "code",
   "execution_count": 13,
   "metadata": {},
   "outputs": [
    {
     "name": "stdout",
     "output_type": "stream",
     "text": [
      "Average Accuracy :  0.8707929284681686\n",
      "F1 score for Non Stress :  0.8737592241505355\n",
      "F1 score for Stress :  0.8323164169219973\n"
     ]
    }
   ],
   "source": [
    "acc=0\n",
    "nonstress_f1=0\n",
    "stress_f1=0\n",
    "for i in subjects:\n",
    "    acc=acc+clr[i]['accuracy']\n",
    "    nonstress_f1=nonstress_f1+clr[i]['Non-Stress']['f1-score']\n",
    "    stress_f1=stress_f1+clr[i]['Stress']['f1-score']\n",
    "\n",
    "print(\"Average Accuracy : \",acc/len(subjects))\n",
    "print(\"F1 score for Non Stress : \",nonstress_f1/len(subjects))\n",
    "print(\"F1 score for Stress : \",stress_f1/len(subjects))"
   ]
  },
  {
   "cell_type": "code",
   "execution_count": null,
   "metadata": {},
   "outputs": [],
   "source": []
  }
 ],
 "metadata": {
  "kernelspec": {
   "display_name": "Python 3",
   "language": "python",
   "name": "python3"
  },
  "language_info": {
   "codemirror_mode": {
    "name": "ipython",
    "version": 3
   },
   "file_extension": ".py",
   "mimetype": "text/x-python",
   "name": "python",
   "nbconvert_exporter": "python",
   "pygments_lexer": "ipython3",
   "version": "3.7.4"
  }
 },
 "nbformat": 4,
 "nbformat_minor": 2
}
