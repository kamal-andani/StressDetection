{
 "cells": [
  {
   "cell_type": "code",
   "execution_count": 1,
   "metadata": {},
   "outputs": [],
   "source": [
    "import pandas as pd\n",
    "import numpy as np\n",
    "\n",
    "import warnings\n",
    "warnings.filterwarnings('ignore')\n",
    "\n",
    "\n",
    "from sklearn.metrics import classification_report\n",
    "from sklearn.model_selection import train_test_split\n",
    "from sklearn.model_selection import GridSearchCV\n",
    "\n",
    "from sklearn import svm"
   ]
  },
  {
   "cell_type": "code",
   "execution_count": 2,
   "metadata": {},
   "outputs": [],
   "source": [
    "df = pd.read_csv('data/combined_subjects7.csv', index_col=0)\n",
    "subject_id_list = df['subject'].unique()\n"
   ]
  },
  {
   "cell_type": "code",
   "execution_count": 3,
   "metadata": {},
   "outputs": [],
   "source": [
    "feats_all =   ['BVP_mean', 'BVP_std', 'BVP_min', 'BVP_max',\n",
    "           'EDA_phasic_mean', 'EDA_phasic_std', 'EDA_phasic_min', 'EDA_phasic_max', 'EDA_smna_mean',\n",
    "           'EDA_smna_std', 'EDA_smna_min', 'EDA_smna_max', 'EDA_tonic_mean',\n",
    "           'EDA_tonic_std', 'EDA_tonic_min', 'EDA_tonic_max', 'Resp_mean',\n",
    "           'Resp_std', 'Resp_min', 'Resp_max', 'TEMP_mean', 'TEMP_std', 'TEMP_min',\n",
    "           'TEMP_max', 'TEMP_slope', 'BVP_peak_freq','BVP_peaks_cnt','Resp_peak_cnt','subject', 'label']\n",
    "\n",
    "feats_without_EDA =   ['BVP_mean', 'BVP_std', 'BVP_min', 'BVP_max','Resp_mean','Resp_std', 'Resp_min', 'Resp_max', 'TEMP_mean', 'TEMP_std', 'TEMP_min',\n",
    "           'TEMP_max', 'TEMP_slope', 'BVP_peak_freq','BVP_peaks_cnt','Resp_peak_cnt','subject', 'label']\n",
    "\n",
    "feats_EDA = ['EDA_phasic_mean', 'EDA_phasic_std', 'EDA_phasic_min', 'EDA_phasic_max', 'EDA_smna_mean',\n",
    "           'EDA_smna_std', 'EDA_smna_min', 'EDA_smna_max', 'EDA_tonic_mean',\n",
    "           'EDA_tonic_std', 'EDA_tonic_min', 'EDA_tonic_max','subject', 'label']\n",
    "df=df[feats_all]"
   ]
  },
  {
   "cell_type": "code",
   "execution_count": 4,
   "metadata": {},
   "outputs": [],
   "source": [
    "subjects = df['subject'].unique()"
   ]
  },
  {
   "cell_type": "code",
   "execution_count": 5,
   "metadata": {},
   "outputs": [],
   "source": [
    "x=df.drop(columns=['label'])\n",
    "y=df['label']"
   ]
  },
  {
   "cell_type": "code",
   "execution_count": 6,
   "metadata": {},
   "outputs": [],
   "source": [
    "def get_binary_label(label):\n",
    "    if label == 0 or label == 1:\n",
    "        return 0\n",
    "    else:\n",
    "        return 1"
   ]
  },
  {
   "cell_type": "code",
   "execution_count": 7,
   "metadata": {},
   "outputs": [],
   "source": [
    "y = y.apply(get_binary_label)"
   ]
  },
  {
   "cell_type": "code",
   "execution_count": 8,
   "metadata": {},
   "outputs": [],
   "source": [
    "X_train, X_test, y_train, y_test = train_test_split(x,y,test_size=0.3,random_state = 25)"
   ]
  },
  {
   "cell_type": "code",
   "execution_count": 9,
   "metadata": {},
   "outputs": [],
   "source": [
    "params={'C':np.linspace(101,120,20)}\n",
    "#params={'C':[1,5,10,15,20,30,40,50,60,70,80,90,100,110]}\n",
    "\n",
    "model = svm.SVC(kernel='rbf')\n",
    "clf = GridSearchCV(model,param_grid=params,cv=3)"
   ]
  },
  {
   "cell_type": "code",
   "execution_count": 10,
   "metadata": {},
   "outputs": [],
   "source": [
    "bestclf=clf.fit(X_train,y_train)"
   ]
  },
  {
   "cell_type": "code",
   "execution_count": 11,
   "metadata": {},
   "outputs": [
    {
     "data": {
      "text/plain": [
       "111.0"
      ]
     },
     "execution_count": 11,
     "metadata": {},
     "output_type": "execute_result"
    }
   ],
   "source": [
    "best_C=bestclf.best_params_['C']\n",
    "best_C"
   ]
  },
  {
   "cell_type": "code",
   "execution_count": 12,
   "metadata": {
    "scrolled": false
   },
   "outputs": [
    {
     "name": "stdout",
     "output_type": "stream",
     "text": [
      "Subject  2\n",
      "              precision    recall  f1-score   support\n",
      "\n",
      "           0       0.93      0.93      0.93       163\n",
      "           1       0.82      0.82      0.82        66\n",
      "\n",
      "    accuracy                           0.90       229\n",
      "   macro avg       0.87      0.87      0.87       229\n",
      "weighted avg       0.90      0.90      0.90       229\n",
      "\n",
      "Subject  3\n",
      "              precision    recall  f1-score   support\n",
      "\n",
      "           0       0.67      0.92      0.77       119\n",
      "           1       0.86      0.52      0.65       113\n",
      "\n",
      "    accuracy                           0.72       232\n",
      "   macro avg       0.76      0.72      0.71       232\n",
      "weighted avg       0.76      0.72      0.71       232\n",
      "\n",
      "Subject  4\n",
      "              precision    recall  f1-score   support\n",
      "\n",
      "           0       1.00      0.99      0.99       167\n",
      "           1       0.97      1.00      0.99        66\n",
      "\n",
      "    accuracy                           0.99       233\n",
      "   macro avg       0.99      0.99      0.99       233\n",
      "weighted avg       0.99      0.99      0.99       233\n",
      "\n",
      "Subject  5\n",
      "              precision    recall  f1-score   support\n",
      "\n",
      "           0       0.96      0.94      0.95       174\n",
      "           1       0.86      0.91      0.88        66\n",
      "\n",
      "    accuracy                           0.93       240\n",
      "   macro avg       0.91      0.93      0.92       240\n",
      "weighted avg       0.94      0.93      0.93       240\n",
      "\n",
      "Subject  6\n",
      "              precision    recall  f1-score   support\n",
      "\n",
      "           0       1.00      0.99      1.00       169\n",
      "           1       0.99      1.00      0.99        69\n",
      "\n",
      "    accuracy                           1.00       238\n",
      "   macro avg       0.99      1.00      0.99       238\n",
      "weighted avg       1.00      1.00      1.00       238\n",
      "\n",
      "Subject  7\n",
      "              precision    recall  f1-score   support\n",
      "\n",
      "           0       0.97      0.98      0.97       167\n",
      "           1       0.94      0.93      0.94        70\n",
      "\n",
      "    accuracy                           0.96       237\n",
      "   macro avg       0.96      0.95      0.95       237\n",
      "weighted avg       0.96      0.96      0.96       237\n",
      "\n",
      "Subject  8\n",
      "              precision    recall  f1-score   support\n",
      "\n",
      "           0       0.99      0.96      0.98       172\n",
      "           1       0.90      0.98      0.94        66\n",
      "\n",
      "    accuracy                           0.97       238\n",
      "   macro avg       0.95      0.97      0.96       238\n",
      "weighted avg       0.97      0.97      0.97       238\n",
      "\n",
      "Subject  9\n",
      "              precision    recall  f1-score   support\n",
      "\n",
      "           0       1.00      0.98      0.99       171\n",
      "           1       0.96      1.00      0.98        67\n",
      "\n",
      "    accuracy                           0.99       238\n",
      "   macro avg       0.98      0.99      0.98       238\n",
      "weighted avg       0.99      0.99      0.99       238\n",
      "\n",
      "Subject  10\n",
      "              precision    recall  f1-score   support\n",
      "\n",
      "           0       1.00      0.97      0.99       173\n",
      "           1       0.94      1.00      0.97        73\n",
      "\n",
      "    accuracy                           0.98       246\n",
      "   macro avg       0.97      0.99      0.98       246\n",
      "weighted avg       0.98      0.98      0.98       246\n",
      "\n",
      "Subject  11\n",
      "              precision    recall  f1-score   support\n",
      "\n",
      "           0       0.96      0.77      0.86       208\n",
      "           1       0.36      0.81      0.50        32\n",
      "\n",
      "    accuracy                           0.78       240\n",
      "   macro avg       0.66      0.79      0.68       240\n",
      "weighted avg       0.88      0.78      0.81       240\n",
      "\n",
      "Subject  13\n",
      "              precision    recall  f1-score   support\n",
      "\n",
      "           0       0.96      1.00      0.98       162\n",
      "           1       1.00      0.91      0.95        79\n",
      "\n",
      "    accuracy                           0.97       241\n",
      "   macro avg       0.98      0.96      0.97       241\n",
      "weighted avg       0.97      0.97      0.97       241\n",
      "\n",
      "Subject  14\n",
      "              precision    recall  f1-score   support\n",
      "\n",
      "           0       0.88      0.89      0.88       167\n",
      "           1       0.74      0.73      0.73        74\n",
      "\n",
      "    accuracy                           0.84       241\n",
      "   macro avg       0.81      0.81      0.81       241\n",
      "weighted avg       0.84      0.84      0.84       241\n",
      "\n",
      "Subject  15\n",
      "              precision    recall  f1-score   support\n",
      "\n",
      "           0       0.85      0.99      0.91       144\n",
      "           1       0.97      0.74      0.84        97\n",
      "\n",
      "    accuracy                           0.89       241\n",
      "   macro avg       0.91      0.86      0.88       241\n",
      "weighted avg       0.90      0.89      0.88       241\n",
      "\n",
      "Subject  16\n",
      "              precision    recall  f1-score   support\n",
      "\n",
      "           0       0.99      1.00      1.00       166\n",
      "           1       1.00      0.99      0.99        74\n",
      "\n",
      "    accuracy                           1.00       240\n",
      "   macro avg       1.00      0.99      1.00       240\n",
      "weighted avg       1.00      1.00      1.00       240\n",
      "\n",
      "Subject  17\n",
      "              precision    recall  f1-score   support\n",
      "\n",
      "           0       0.70      0.64      0.67       183\n",
      "           1       0.17      0.21      0.18        63\n",
      "\n",
      "    accuracy                           0.53       246\n",
      "   macro avg       0.43      0.43      0.43       246\n",
      "weighted avg       0.57      0.53      0.55       246\n",
      "\n"
     ]
    }
   ],
   "source": [
    "preds={}\n",
    "clr={}\n",
    "for i in subjects:\n",
    "    x_train=x[x['subject']!=i]\n",
    "    x_test=x[x['subject']==i]\n",
    "    y_train=y[x['subject']!=i]\n",
    "    y_test=y[x['subject']==i]\n",
    "    \n",
    "    clf = svm.SVC(C=best_C,kernel='rbf')\n",
    "    \n",
    "    best=clf.fit(x_train, y_train)\n",
    "    \n",
    "    y_predicted = best.predict(x_test)\n",
    "    \n",
    "    print(\"Subject \",i)\n",
    "     \n",
    "    preds[i]=y_predicted\n",
    "    print(classification_report(y_predicted,y_test))\n",
    "    a=classification_report(y_predicted,y_test,target_names=['Non-Stress','Stress'],output_dict=True)\n",
    "    clr[i]=a\n",
    "    "
   ]
  },
  {
   "cell_type": "code",
   "execution_count": 13,
   "metadata": {
    "scrolled": true
   },
   "outputs": [
    {
     "name": "stdout",
     "output_type": "stream",
     "text": [
      "Average Accuracy :  0.8959986523970166\n",
      "F1 score for Non Stress :  0.9249017316266279\n",
      "F1 score for Stress :  0.8234874162082905\n"
     ]
    }
   ],
   "source": [
    "acc=0\n",
    "nonstress_f1=0\n",
    "stress_f1=0\n",
    "for i in subjects:\n",
    "    acc=acc+clr[i]['accuracy']\n",
    "    nonstress_f1=nonstress_f1+clr[i]['Non-Stress']['f1-score']\n",
    "    stress_f1=stress_f1+clr[i]['Stress']['f1-score']\n",
    "\n",
    "print(\"Average Accuracy : \",acc/len(subjects))\n",
    "print(\"F1 score for Non Stress : \",nonstress_f1/len(subjects))\n",
    "print(\"F1 score for Stress : \",stress_f1/len(subjects))"
   ]
  },
  {
   "cell_type": "code",
   "execution_count": null,
   "metadata": {},
   "outputs": [],
   "source": []
  },
  {
   "cell_type": "code",
   "execution_count": null,
   "metadata": {},
   "outputs": [],
   "source": []
  }
 ],
 "metadata": {
  "kernelspec": {
   "display_name": "Python 3",
   "language": "python",
   "name": "python3"
  },
  "language_info": {
   "codemirror_mode": {
    "name": "ipython",
    "version": 3
   },
   "file_extension": ".py",
   "mimetype": "text/x-python",
   "name": "python",
   "nbconvert_exporter": "python",
   "pygments_lexer": "ipython3",
   "version": "3.7.4"
  }
 },
 "nbformat": 4,
 "nbformat_minor": 2
}
