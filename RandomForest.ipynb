{
 "cells": [
  {
   "cell_type": "code",
   "execution_count": 1,
   "metadata": {},
   "outputs": [],
   "source": [
    "import pandas as pd\n",
    "import numpy as np\n",
    "\n",
    "import warnings\n",
    "warnings.filterwarnings('ignore')\n",
    "\n",
    "\n",
    "from sklearn.metrics import classification_report\n",
    "from sklearn.model_selection import train_test_split\n",
    "from sklearn.model_selection import GridSearchCV\n",
    "from sklearn.linear_model import LogisticRegression\n",
    "from sklearn.ensemble import RandomForestClassifier"
   ]
  },
  {
   "cell_type": "code",
   "execution_count": 16,
   "metadata": {},
   "outputs": [],
   "source": [
    "df = pd.read_csv('data/combined_subjects7.csv', index_col=0)\n",
    "subject_id_list = df['subject'].unique()\n"
   ]
  },
  {
   "cell_type": "code",
   "execution_count": 17,
   "metadata": {},
   "outputs": [],
   "source": [
    "feats_all =   ['BVP_mean', 'BVP_std', 'BVP_min', 'BVP_max',\n",
    "           'EDA_phasic_mean', 'EDA_phasic_std', 'EDA_phasic_min', 'EDA_phasic_max', 'EDA_smna_mean',\n",
    "           'EDA_smna_std', 'EDA_smna_min', 'EDA_smna_max', 'EDA_tonic_mean',\n",
    "           'EDA_tonic_std', 'EDA_tonic_min', 'EDA_tonic_max', 'Resp_mean',\n",
    "           'Resp_std', 'Resp_min', 'Resp_max', 'TEMP_mean', 'TEMP_std', 'TEMP_min',\n",
    "           'TEMP_max', 'TEMP_slope', 'BVP_peak_freq','BVP_peaks_cnt','Resp_peak_cnt','subject', 'label']\n",
    "\n",
    "feats_without_EDA =   ['BVP_mean', 'BVP_std', 'BVP_min', 'BVP_max','Resp_mean','Resp_std', 'Resp_min', 'Resp_max', 'TEMP_mean', 'TEMP_std', 'TEMP_min',\n",
    "           'TEMP_max', 'TEMP_slope', 'BVP_peak_freq','BVP_peaks_cnt','Resp_peak_cnt','subject', 'label']\n",
    "\n",
    "feats_EDA = ['EDA_phasic_mean', 'EDA_phasic_std', 'EDA_phasic_min', 'EDA_phasic_max', 'EDA_smna_mean',\n",
    "           'EDA_smna_std', 'EDA_smna_min', 'EDA_smna_max', 'EDA_tonic_mean',\n",
    "           'EDA_tonic_std', 'EDA_tonic_min', 'EDA_tonic_max','subject', 'label']\n",
    "df=df[feats_all]"
   ]
  },
  {
   "cell_type": "code",
   "execution_count": 18,
   "metadata": {},
   "outputs": [],
   "source": [
    "subjects = df['subject'].unique()"
   ]
  },
  {
   "cell_type": "code",
   "execution_count": 19,
   "metadata": {},
   "outputs": [],
   "source": [
    "x=df.drop(columns=['label'])\n",
    "y=df['label']"
   ]
  },
  {
   "cell_type": "code",
   "execution_count": 20,
   "metadata": {},
   "outputs": [],
   "source": [
    "def get_binary_label(label):\n",
    "    if label == 0 or label == 1:\n",
    "        return 0\n",
    "    else:\n",
    "        return 1"
   ]
  },
  {
   "cell_type": "code",
   "execution_count": 21,
   "metadata": {},
   "outputs": [],
   "source": [
    "y = y.apply(get_binary_label)"
   ]
  },
  {
   "cell_type": "code",
   "execution_count": 22,
   "metadata": {},
   "outputs": [],
   "source": [
    "X_train, X_test, y_train, y_test = train_test_split(x,y,test_size=0.3,random_state = 42)"
   ]
  },
  {
   "cell_type": "code",
   "execution_count": 23,
   "metadata": {},
   "outputs": [],
   "source": [
    "params={'n_estimators':[10,20,40,50,70,100,150,200,500,700,1000,1500]}\n",
    "model = RandomForestClassifier()\n",
    "clf = GridSearchCV(model,param_grid=params,cv=3,n_jobs=-1)"
   ]
  },
  {
   "cell_type": "code",
   "execution_count": 24,
   "metadata": {},
   "outputs": [],
   "source": [
    "rf=clf.fit(X_train,y_train)"
   ]
  },
  {
   "cell_type": "code",
   "execution_count": 25,
   "metadata": {},
   "outputs": [
    {
     "data": {
      "text/plain": [
       "700"
      ]
     },
     "execution_count": 25,
     "metadata": {},
     "output_type": "execute_result"
    }
   ],
   "source": [
    "best_ntrees=rf.best_params_['n_estimators']\n",
    "best_ntrees"
   ]
  },
  {
   "cell_type": "code",
   "execution_count": 26,
   "metadata": {},
   "outputs": [
    {
     "name": "stdout",
     "output_type": "stream",
     "text": [
      "Subject  2\n",
      "              precision    recall  f1-score   support\n",
      "\n",
      "           0       1.00      0.92      0.96       178\n",
      "           1       0.77      1.00      0.87        51\n",
      "\n",
      "    accuracy                           0.93       229\n",
      "   macro avg       0.89      0.96      0.91       229\n",
      "weighted avg       0.95      0.93      0.94       229\n",
      "\n",
      "Subject  3\n",
      "              precision    recall  f1-score   support\n",
      "\n",
      "           0       0.80      0.85      0.83       154\n",
      "           1       0.67      0.59      0.63        78\n",
      "\n",
      "    accuracy                           0.76       232\n",
      "   macro avg       0.74      0.72      0.73       232\n",
      "weighted avg       0.76      0.76      0.76       232\n",
      "\n",
      "Subject  4\n",
      "              precision    recall  f1-score   support\n",
      "\n",
      "           0       1.00      1.00      1.00       165\n",
      "           1       1.00      1.00      1.00        68\n",
      "\n",
      "    accuracy                           1.00       233\n",
      "   macro avg       1.00      1.00      1.00       233\n",
      "weighted avg       1.00      1.00      1.00       233\n",
      "\n",
      "Subject  5\n",
      "              precision    recall  f1-score   support\n",
      "\n",
      "           0       0.99      1.00      1.00       169\n",
      "           1       1.00      0.99      0.99        71\n",
      "\n",
      "    accuracy                           1.00       240\n",
      "   macro avg       1.00      0.99      0.99       240\n",
      "weighted avg       1.00      1.00      1.00       240\n",
      "\n",
      "Subject  6\n",
      "              precision    recall  f1-score   support\n",
      "\n",
      "           0       1.00      1.00      1.00       168\n",
      "           1       1.00      1.00      1.00        70\n",
      "\n",
      "    accuracy                           1.00       238\n",
      "   macro avg       1.00      1.00      1.00       238\n",
      "weighted avg       1.00      1.00      1.00       238\n",
      "\n",
      "Subject  7\n",
      "              precision    recall  f1-score   support\n",
      "\n",
      "           0       0.94      1.00      0.97       158\n",
      "           1       1.00      0.87      0.93        79\n",
      "\n",
      "    accuracy                           0.96       237\n",
      "   macro avg       0.97      0.94      0.95       237\n",
      "weighted avg       0.96      0.96      0.96       237\n",
      "\n",
      "Subject  8\n",
      "              precision    recall  f1-score   support\n",
      "\n",
      "           0       1.00      1.00      1.00       166\n",
      "           1       1.00      1.00      1.00        72\n",
      "\n",
      "    accuracy                           1.00       238\n",
      "   macro avg       1.00      1.00      1.00       238\n",
      "weighted avg       1.00      1.00      1.00       238\n",
      "\n",
      "Subject  9\n",
      "              precision    recall  f1-score   support\n",
      "\n",
      "           0       1.00      1.00      1.00       168\n",
      "           1       1.00      1.00      1.00        70\n",
      "\n",
      "    accuracy                           1.00       238\n",
      "   macro avg       1.00      1.00      1.00       238\n",
      "weighted avg       1.00      1.00      1.00       238\n",
      "\n",
      "Subject  10\n",
      "              precision    recall  f1-score   support\n",
      "\n",
      "           0       1.00      0.86      0.93       195\n",
      "           1       0.65      1.00      0.79        51\n",
      "\n",
      "    accuracy                           0.89       246\n",
      "   macro avg       0.83      0.93      0.86       246\n",
      "weighted avg       0.93      0.89      0.90       246\n",
      "\n",
      "Subject  11\n",
      "              precision    recall  f1-score   support\n",
      "\n",
      "           0       0.88      0.77      0.82       191\n",
      "           1       0.40      0.59      0.48        49\n",
      "\n",
      "    accuracy                           0.73       240\n",
      "   macro avg       0.64      0.68      0.65       240\n",
      "weighted avg       0.78      0.73      0.75       240\n",
      "\n",
      "Subject  13\n",
      "              precision    recall  f1-score   support\n",
      "\n",
      "           0       0.99      0.99      0.99       168\n",
      "           1       0.99      0.97      0.98        73\n",
      "\n",
      "    accuracy                           0.99       241\n",
      "   macro avg       0.99      0.98      0.99       241\n",
      "weighted avg       0.99      0.99      0.99       241\n",
      "\n",
      "Subject  14\n",
      "              precision    recall  f1-score   support\n",
      "\n",
      "           0       0.06      0.91      0.11        11\n",
      "           1       0.99      0.31      0.48       230\n",
      "\n",
      "    accuracy                           0.34       241\n",
      "   macro avg       0.52      0.61      0.29       241\n",
      "weighted avg       0.94      0.34      0.46       241\n",
      "\n",
      "Subject  15\n",
      "              precision    recall  f1-score   support\n",
      "\n",
      "           0       1.00      0.99      1.00       168\n",
      "           1       0.99      1.00      0.99        73\n",
      "\n",
      "    accuracy                           1.00       241\n",
      "   macro avg       0.99      1.00      1.00       241\n",
      "weighted avg       1.00      1.00      1.00       241\n",
      "\n",
      "Subject  16\n",
      "              precision    recall  f1-score   support\n",
      "\n",
      "           0       1.00      1.00      1.00       167\n",
      "           1       1.00      1.00      1.00        73\n",
      "\n",
      "    accuracy                           1.00       240\n",
      "   macro avg       1.00      1.00      1.00       240\n",
      "weighted avg       1.00      1.00      1.00       240\n",
      "\n",
      "Subject  17\n",
      "              precision    recall  f1-score   support\n",
      "\n",
      "           0       0.63      0.62      0.63       171\n",
      "           1       0.17      0.17      0.17        75\n",
      "\n",
      "    accuracy                           0.48       246\n",
      "   macro avg       0.40      0.40      0.40       246\n",
      "weighted avg       0.49      0.48      0.49       246\n",
      "\n"
     ]
    }
   ],
   "source": [
    "preds={}\n",
    "clr={}\n",
    "for i in subjects:\n",
    "    x_train=x[x['subject']!=i]\n",
    "    x_test=x[x['subject']==i]\n",
    "    y_train=y[x['subject']!=i]\n",
    "    y_test=y[x['subject']==i]\n",
    "    \n",
    "    clf = RandomForestClassifier(n_estimators=100)\n",
    "    \n",
    "    best=clf.fit(x_train, y_train)\n",
    "    \n",
    "    y_predicted = best.predict(x_test)\n",
    "    \n",
    "    print(\"Subject \",i)\n",
    "     \n",
    "    preds[i]=y_predicted\n",
    "    print(classification_report(y_predicted,y_test))\n",
    "    a=classification_report(y_predicted,y_test,target_names=['Non-Stress','Stress'],output_dict=True)\n",
    "    clr[i]=a"
   ]
  },
  {
   "cell_type": "code",
   "execution_count": 28,
   "metadata": {},
   "outputs": [
    {
     "name": "stdout",
     "output_type": "stream",
     "text": [
      "Average Accuracy :  0.8721357744690577\n",
      "F1 score for Non Stress :  0.8813965174757189\n",
      "F1 score for Stress :  0.8204521830186986\n"
     ]
    }
   ],
   "source": [
    "acc=0\n",
    "nonstress_f1=0\n",
    "stress_f1=0\n",
    "for i in subjects:\n",
    "    acc=acc+clr[i]['accuracy']\n",
    "    nonstress_f1=nonstress_f1+clr[i]['Non-Stress']['f1-score']\n",
    "    stress_f1=stress_f1+clr[i]['Stress']['f1-score']\n",
    "\n",
    "print(\"Average Accuracy : \",acc/len(subjects))\n",
    "print(\"F1 score for Non Stress : \",nonstress_f1/len(subjects))\n",
    "print(\"F1 score for Stress : \",stress_f1/len(subjects))"
   ]
  }
 ],
 "metadata": {
  "kernelspec": {
   "display_name": "Python 3",
   "language": "python",
   "name": "python3"
  },
  "language_info": {
   "codemirror_mode": {
    "name": "ipython",
    "version": 3
   },
   "file_extension": ".py",
   "mimetype": "text/x-python",
   "name": "python",
   "nbconvert_exporter": "python",
   "pygments_lexer": "ipython3",
   "version": "3.7.4"
  }
 },
 "nbformat": 4,
 "nbformat_minor": 2
}
