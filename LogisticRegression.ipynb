{
 "cells": [
  {
   "cell_type": "code",
   "execution_count": 1,
   "metadata": {},
   "outputs": [],
   "source": [
    "import pandas as pd\n",
    "import numpy as np\n",
    "\n",
    "import warnings\n",
    "warnings.filterwarnings('ignore')\n",
    "\n",
    "\n",
    "from sklearn.metrics import classification_report\n",
    "from sklearn.model_selection import train_test_split\n",
    "from sklearn.model_selection import GridSearchCV\n",
    "from sklearn.linear_model import LogisticRegression\n"
   ]
  },
  {
   "cell_type": "code",
   "execution_count": 2,
   "metadata": {},
   "outputs": [],
   "source": [
    "df = pd.read_csv('data/combined_subjects7.csv', index_col=0)\n",
    "subject_id_list = df['subject'].unique()\n"
   ]
  },
  {
   "cell_type": "code",
   "execution_count": 3,
   "metadata": {},
   "outputs": [],
   "source": [
    "feats_all =   ['BVP_mean', 'BVP_std', 'BVP_min', 'BVP_max',\n",
    "           'EDA_phasic_mean', 'EDA_phasic_std', 'EDA_phasic_min', 'EDA_phasic_max', 'EDA_smna_mean',\n",
    "           'EDA_smna_std', 'EDA_smna_min', 'EDA_smna_max', 'EDA_tonic_mean',\n",
    "           'EDA_tonic_std', 'EDA_tonic_min', 'EDA_tonic_max', 'Resp_mean',\n",
    "           'Resp_std', 'Resp_min', 'Resp_max', 'TEMP_mean', 'TEMP_std', 'TEMP_min',\n",
    "           'TEMP_max', 'TEMP_slope', 'BVP_peak_freq','BVP_peaks_cnt','Resp_peak_cnt','subject', 'label']\n",
    "\n",
    "feats_without_EDA =   ['BVP_mean', 'BVP_std', 'BVP_min', 'BVP_max','Resp_mean','Resp_std', 'Resp_min', 'Resp_max', 'TEMP_mean', 'TEMP_std', 'TEMP_min',\n",
    "           'TEMP_max', 'TEMP_slope', 'BVP_peak_freq','BVP_peaks_cnt','Resp_peak_cnt','subject', 'label']\n",
    "\n",
    "feats_EDA = ['EDA_phasic_mean', 'EDA_phasic_std', 'EDA_phasic_min', 'EDA_phasic_max', 'EDA_smna_mean',\n",
    "           'EDA_smna_std', 'EDA_smna_min', 'EDA_smna_max', 'EDA_tonic_mean',\n",
    "           'EDA_tonic_std', 'EDA_tonic_min', 'EDA_tonic_max','subject', 'label']\n",
    "df=df[feats_all]"
   ]
  },
  {
   "cell_type": "code",
   "execution_count": 4,
   "metadata": {},
   "outputs": [],
   "source": [
    "subjects = df['subject'].unique()"
   ]
  },
  {
   "cell_type": "code",
   "execution_count": 5,
   "metadata": {},
   "outputs": [],
   "source": [
    "x=df.drop(columns=['label'])\n",
    "y=df['label']"
   ]
  },
  {
   "cell_type": "code",
   "execution_count": 6,
   "metadata": {},
   "outputs": [],
   "source": [
    "def get_binary_label(label):\n",
    "    if label == 0 or label == 1:\n",
    "        return 0\n",
    "    else:\n",
    "        return 1"
   ]
  },
  {
   "cell_type": "code",
   "execution_count": 7,
   "metadata": {},
   "outputs": [],
   "source": [
    "y = y.apply(get_binary_label)"
   ]
  },
  {
   "cell_type": "code",
   "execution_count": 8,
   "metadata": {},
   "outputs": [],
   "source": [
    "X_train, X_test, y_train, y_test = train_test_split(x,y,test_size=0.3,random_state = 25)"
   ]
  },
  {
   "cell_type": "code",
   "execution_count": 9,
   "metadata": {},
   "outputs": [],
   "source": [
    "#params={'C':np.linspace(51,70,20)}\n",
    "params={'C':[0.001,0.1,1,5,10,15,20,30,40,50,60,70,80,90,100,110,150]}\n",
    "model = LogisticRegression()\n",
    "clf = GridSearchCV(model,param_grid=params,cv=3)"
   ]
  },
  {
   "cell_type": "code",
   "execution_count": 10,
   "metadata": {},
   "outputs": [],
   "source": [
    "lr=clf.fit(X_train,y_train)"
   ]
  },
  {
   "cell_type": "code",
   "execution_count": 11,
   "metadata": {},
   "outputs": [
    {
     "data": {
      "text/plain": [
       "50"
      ]
     },
     "execution_count": 11,
     "metadata": {},
     "output_type": "execute_result"
    }
   ],
   "source": [
    "best_C=lr.best_params_['C']\n",
    "best_C"
   ]
  },
  {
   "cell_type": "code",
   "execution_count": 12,
   "metadata": {},
   "outputs": [
    {
     "name": "stdout",
     "output_type": "stream",
     "text": [
      "Subject  2\n",
      "              precision    recall  f1-score   support\n",
      "\n",
      "           0       0.94      0.93      0.94       165\n",
      "           1       0.83      0.86      0.85        64\n",
      "\n",
      "    accuracy                           0.91       229\n",
      "   macro avg       0.89      0.90      0.89       229\n",
      "weighted avg       0.91      0.91      0.91       229\n",
      "\n",
      "Subject  3\n",
      "              precision    recall  f1-score   support\n",
      "\n",
      "           0       0.66      0.91      0.76       117\n",
      "           1       0.86      0.51      0.64       115\n",
      "\n",
      "    accuracy                           0.72       232\n",
      "   macro avg       0.76      0.71      0.70       232\n",
      "weighted avg       0.75      0.72      0.70       232\n",
      "\n",
      "Subject  4\n",
      "              precision    recall  f1-score   support\n",
      "\n",
      "           0       1.00      1.00      1.00       165\n",
      "           1       1.00      1.00      1.00        68\n",
      "\n",
      "    accuracy                           1.00       233\n",
      "   macro avg       1.00      1.00      1.00       233\n",
      "weighted avg       1.00      1.00      1.00       233\n",
      "\n",
      "Subject  5\n",
      "              precision    recall  f1-score   support\n",
      "\n",
      "           0       0.99      1.00      1.00       169\n",
      "           1       1.00      0.99      0.99        71\n",
      "\n",
      "    accuracy                           1.00       240\n",
      "   macro avg       1.00      0.99      0.99       240\n",
      "weighted avg       1.00      1.00      1.00       240\n",
      "\n",
      "Subject  6\n",
      "              precision    recall  f1-score   support\n",
      "\n",
      "           0       1.00      1.00      1.00       168\n",
      "           1       1.00      1.00      1.00        70\n",
      "\n",
      "    accuracy                           1.00       238\n",
      "   macro avg       1.00      1.00      1.00       238\n",
      "weighted avg       1.00      1.00      1.00       238\n",
      "\n",
      "Subject  7\n",
      "              precision    recall  f1-score   support\n",
      "\n",
      "           0       0.99      1.00      0.99       166\n",
      "           1       1.00      0.97      0.99        71\n",
      "\n",
      "    accuracy                           0.99       237\n",
      "   macro avg       0.99      0.99      0.99       237\n",
      "weighted avg       0.99      0.99      0.99       237\n",
      "\n",
      "Subject  8\n",
      "              precision    recall  f1-score   support\n",
      "\n",
      "           0       0.99      0.98      0.99       168\n",
      "           1       0.96      0.99      0.97        70\n",
      "\n",
      "    accuracy                           0.98       238\n",
      "   macro avg       0.98      0.98      0.98       238\n",
      "weighted avg       0.98      0.98      0.98       238\n",
      "\n",
      "Subject  9\n",
      "              precision    recall  f1-score   support\n",
      "\n",
      "           0       1.00      0.99      1.00       169\n",
      "           1       0.99      1.00      0.99        69\n",
      "\n",
      "    accuracy                           1.00       238\n",
      "   macro avg       0.99      1.00      0.99       238\n",
      "weighted avg       1.00      1.00      1.00       238\n",
      "\n",
      "Subject  10\n",
      "              precision    recall  f1-score   support\n",
      "\n",
      "           0       1.00      0.98      0.99       172\n",
      "           1       0.95      1.00      0.97        74\n",
      "\n",
      "    accuracy                           0.98       246\n",
      "   macro avg       0.97      0.99      0.98       246\n",
      "weighted avg       0.98      0.98      0.98       246\n",
      "\n",
      "Subject  11\n",
      "              precision    recall  f1-score   support\n",
      "\n",
      "           0       0.95      0.77      0.85       207\n",
      "           1       0.34      0.76      0.47        33\n",
      "\n",
      "    accuracy                           0.77       240\n",
      "   macro avg       0.65      0.76      0.66       240\n",
      "weighted avg       0.87      0.77      0.80       240\n",
      "\n",
      "Subject  13\n",
      "              precision    recall  f1-score   support\n",
      "\n",
      "           0       0.97      1.00      0.98       164\n",
      "           1       1.00      0.94      0.97        77\n",
      "\n",
      "    accuracy                           0.98       241\n",
      "   macro avg       0.99      0.97      0.98       241\n",
      "weighted avg       0.98      0.98      0.98       241\n",
      "\n",
      "Subject  14\n",
      "              precision    recall  f1-score   support\n",
      "\n",
      "           0       0.90      0.86      0.88       175\n",
      "           1       0.67      0.74      0.71        66\n",
      "\n",
      "    accuracy                           0.83       241\n",
      "   macro avg       0.79      0.80      0.79       241\n",
      "weighted avg       0.84      0.83      0.83       241\n",
      "\n",
      "Subject  15\n",
      "              precision    recall  f1-score   support\n",
      "\n",
      "           0       0.97      0.99      0.98       163\n",
      "           1       0.99      0.94      0.96        78\n",
      "\n",
      "    accuracy                           0.98       241\n",
      "   macro avg       0.98      0.96      0.97       241\n",
      "weighted avg       0.98      0.98      0.97       241\n",
      "\n",
      "Subject  16\n",
      "              precision    recall  f1-score   support\n",
      "\n",
      "           0       0.99      1.00      0.99       165\n",
      "           1       1.00      0.97      0.99        75\n",
      "\n",
      "    accuracy                           0.99       240\n",
      "   macro avg       0.99      0.99      0.99       240\n",
      "weighted avg       0.99      0.99      0.99       240\n",
      "\n",
      "Subject  17\n",
      "              precision    recall  f1-score   support\n",
      "\n",
      "           0       0.66      0.66      0.66       168\n",
      "           1       0.27      0.27      0.27        78\n",
      "\n",
      "    accuracy                           0.54       246\n",
      "   macro avg       0.46      0.46      0.46       246\n",
      "weighted avg       0.54      0.54      0.54       246\n",
      "\n"
     ]
    }
   ],
   "source": [
    "preds={}\n",
    "clr={}\n",
    "for i in subjects:\n",
    "    x_train=x[x['subject']!=i]\n",
    "    x_test=x[x['subject']==i]\n",
    "    y_train=y[x['subject']!=i]\n",
    "    y_test=y[x['subject']==i]\n",
    "    \n",
    "    clf = LogisticRegression(C=best_C)\n",
    "    \n",
    "    best=clf.fit(x_train, y_train)\n",
    "    \n",
    "    y_predicted = best.predict(x_test)\n",
    "    \n",
    "    print(\"Subject \",i)\n",
    "     \n",
    "    preds[i]=y_predicted\n",
    "    print(classification_report(y_predicted,y_test))\n",
    "    a=classification_report(y_predicted,y_test,target_names=['Non-Stress','Stress'],output_dict=True)\n",
    "    clr[i]=a\n",
    "    "
   ]
  },
  {
   "cell_type": "code",
   "execution_count": 13,
   "metadata": {},
   "outputs": [
    {
     "name": "stdout",
     "output_type": "stream",
     "text": [
      "Average Accuracy :  0.9104972006650006\n",
      "F1 score for Non Stress :  0.9346594215564945\n",
      "F1 score for Stress :  0.8509214561271722\n"
     ]
    }
   ],
   "source": [
    "acc=0\n",
    "nonstress_f1=0\n",
    "stress_f1=0\n",
    "for i in subjects:\n",
    "    acc=acc+clr[i]['accuracy']\n",
    "    nonstress_f1=nonstress_f1+clr[i]['Non-Stress']['f1-score']\n",
    "    stress_f1=stress_f1+clr[i]['Stress']['f1-score']\n",
    "\n",
    "print(\"Average Accuracy : \",acc/len(subjects))\n",
    "print(\"F1 score for Non Stress : \",nonstress_f1/len(subjects))\n",
    "print(\"F1 score for Stress : \",stress_f1/len(subjects))"
   ]
  }
 ],
 "metadata": {
  "kernelspec": {
   "display_name": "Python 3",
   "language": "python",
   "name": "python3"
  },
  "language_info": {
   "codemirror_mode": {
    "name": "ipython",
    "version": 3
   },
   "file_extension": ".py",
   "mimetype": "text/x-python",
   "name": "python",
   "nbconvert_exporter": "python",
   "pygments_lexer": "ipython3",
   "version": "3.7.4"
  }
 },
 "nbformat": 4,
 "nbformat_minor": 2
}
